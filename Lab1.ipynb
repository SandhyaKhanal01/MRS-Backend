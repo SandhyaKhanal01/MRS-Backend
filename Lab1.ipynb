{
  "nbformat": 4,
  "nbformat_minor": 0,
  "metadata": {
    "colab": {
      "provenance": [],
      "authorship_tag": "ABX9TyMD/kDpbKXpIN+vMITIEXEU",
      "include_colab_link": true
    },
    "kernelspec": {
      "name": "python3",
      "display_name": "Python 3"
    },
    "language_info": {
      "name": "python"
    }
  },
  "cells": [
    {
      "cell_type": "markdown",
      "metadata": {
        "id": "view-in-github",
        "colab_type": "text"
      },
      "source": [
        "<a href=\"https://colab.research.google.com/github/SandhyaKhanal01/MRS-Backend/blob/main/Lab1.ipynb\" target=\"_parent\"><img src=\"https://colab.research.google.com/assets/colab-badge.svg\" alt=\"Open In Colab\"/></a>"
      ]
    },
    {
      "cell_type": "code",
      "execution_count": 1,
      "metadata": {
        "colab": {
          "base_uri": "https://localhost:8080/"
        },
        "id": "3mIWHXcsb4kI",
        "outputId": "0b8dce84-50f3-431e-8c32-e7c8ee1941f1"
      },
      "outputs": [
        {
          "output_type": "stream",
          "name": "stdout",
          "text": [
            "Enter Number of Inputs 2\n",
            "Enter Value of 1 input :1\n",
            "Enter Value of 2 input :2\n",
            "Inputs are:  [1.0, 2.0]\n",
            "Enter Number of Weights :\t2\n",
            "Enter Value of 1 weight: 1\n",
            "Enter Value of 2 weight: 1.5\n",
            "Weights are:  [1.0, 1.5]\n",
            "Weighted inputs are:  [1.0]\n",
            "Sum of weighted inputs:  1.0\n",
            "Enter value of bias: 0\n",
            "Weighted sum with bias:  1.0\n",
            "Enter value of Threshold: 1\n",
            "Weighted inputs are:  [1.0, 3.0]\n",
            "Sum of weighted inputs:  4.0\n",
            "Enter value of bias: 0\n",
            "Weighted sum with bias:  4.0\n",
            "Enter value of Threshold: 1\n",
            "Neuron is fired\n"
          ]
        }
      ],
      "source": [
        "import numpy as np\n",
        "\n",
        "input_number=int(input(\"Enter Number of Inputs \"))\n",
        "\n",
        "inputs = []\n",
        "\n",
        "for i in range(0,input_number):\n",
        "\n",
        "  inputs.append(float(input(\"Enter Value of \"+ str(i+1) +\" input :\")))\n",
        "\n",
        "print(\"Inputs are: \" ,inputs)\n",
        "\n",
        "weights_number=int(input(\"Enter Number of Weights :\t\"))\n",
        "\n",
        "weights=[]\n",
        "\n",
        "for i in range(0,weights_number):\n",
        "\n",
        "  weights.append(float(input(\"Enter Value of \"+ str(i+1) + \" weight: \")))\n",
        "\n",
        "print(\"Weights are: \",weights)\n",
        "\n",
        "u=[]\n",
        "\n",
        "for i in range(0,input_number):\n",
        "\n",
        "  u.append(inputs[i]*weights[i])\n",
        "\n",
        "  print(\"Weighted inputs are: \",u)\n",
        "\n",
        "  print(\"Sum of weighted inputs: \",sum(u))\n",
        "\n",
        "  bias = int(input(\"Enter value of bias: \"))\n",
        "\n",
        "  weighted_sum_bias= sum(u) + bias\n",
        "\n",
        "  print(\"Weighted sum with bias: \", weighted_sum_bias)\n",
        "\n",
        "  c= int(input(\"Enter value of Threshold: \"))\n",
        "\n",
        "\n",
        "\n",
        "\n",
        "if(weighted_sum_bias>=c):\n",
        "  o=1\n",
        "  print(\"Neuron is fired\")\n",
        "if(weighted_sum_bias<c):\n",
        "  o=0\n",
        "  print(\"Neuron is not fired\")\n",
        "  print(\"Total Weight with bias: \", weighted_sum_bias, \"Threshold: \" ,  c ,\"Output: \" ,o)\n"
      ]
    }
  ]
}